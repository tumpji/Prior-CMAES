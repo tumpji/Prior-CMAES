{
 "cells": [
  {
   "cell_type": "code",
   "execution_count": 1,
   "id": "7e95bf81",
   "metadata": {},
   "outputs": [],
   "source": [
    "import parallization_metacentrum as pm"
   ]
  },
  {
   "cell_type": "markdown",
   "id": "20decaf4",
   "metadata": {},
   "source": [
    "# Normal Jobs\n",
    "- splits the work across number of cores"
   ]
  },
  {
   "cell_type": "code",
   "execution_count": 2,
   "id": "0357e163",
   "metadata": {},
   "outputs": [],
   "source": [
    "# define jobs ...\n",
    "allinp = list(range(40))\n",
    "\n",
    "def funkce(inp):\n",
    "    return inp * 2\n",
    "\n",
    "dispatcher = pm.IsMetacentrum()"
   ]
  },
  {
   "cell_type": "code",
   "execution_count": 3,
   "id": "4abb3b64",
   "metadata": {},
   "outputs": [
    {
     "name": "stdout",
     "output_type": "stream",
     "text": [
      "16\n"
     ]
    }
   ],
   "source": [
    "# returns number of cpus (local == number of cores, metacentrum == number of assigned cores)\n",
    "print(dispatcher.cpus)"
   ]
  },
  {
   "cell_type": "code",
   "execution_count": 4,
   "id": "e7658975",
   "metadata": {},
   "outputs": [
    {
     "name": "stdout",
     "output_type": "stream",
     "text": [
      "38.6578369140625\n"
     ]
    }
   ],
   "source": [
    "# returns GB (local == number of cores, metacentrum == assigned memory)\n",
    "print(dispatcher.memory)"
   ]
  },
  {
   "cell_type": "code",
   "execution_count": 5,
   "id": "461a2e99",
   "metadata": {},
   "outputs": [
    {
     "data": {
      "text/plain": [
       "False"
      ]
     },
     "execution_count": 5,
     "metadata": {},
     "output_type": "execute_result"
    }
   ],
   "source": [
    "# \n",
    "dispatcher.ismetacentrum"
   ]
  },
  {
   "cell_type": "code",
   "execution_count": 6,
   "id": "19d62434",
   "metadata": {},
   "outputs": [
    {
     "name": "stdout",
     "output_type": "stream",
     "text": [
      "[0, 2, 4, 6, 8, 10, 12, 14, 16, 18, 20, 22, 24, 26, 28, 30, 32, 34, 36, 38, 40, 42, 44, 46, 48, 50, 52, 54, 56, 58, 60, 62, 64, 66, 68, 70, 72, 74, 76, 78]\n"
     ]
    }
   ],
   "source": [
    "# run parallel (d.cpus) list.map\n",
    "print(dispatcher.run_map(funkce, allinp))"
   ]
  },
  {
   "cell_type": "code",
   "execution_count": 7,
   "id": "dcae1abc",
   "metadata": {},
   "outputs": [
    {
     "name": "stdout",
     "output_type": "stream",
     "text": [
      "<generator object IsMetacentrum.run_imap at 0x7fa196cf73e0>\n"
     ]
    }
   ],
   "source": [
    "# lazy version\n",
    "print(dispatcher.run_imap(funkce, allinp))"
   ]
  },
  {
   "cell_type": "markdown",
   "id": "1d56d887",
   "metadata": {},
   "source": [
    "# Array jobs \n",
    "- split work across array\n",
    "- works in normal jobs too"
   ]
  },
  {
   "cell_type": "code",
   "execution_count": 8,
   "id": "a9eb2618",
   "metadata": {},
   "outputs": [],
   "source": [
    "\n",
    "# hack ... simulate metacentrum environment\n",
    "class HackArray(pm.ArrayMetacentrum):\n",
    "    @property\n",
    "    def array_index(self):\n",
    "        return 1 # <- 0, 1, 2 \n",
    "    \n",
    "    def _get_all_array_indexes(self):\n",
    "        return [1,2,3]\n",
    "\n",
    "# slice_type='interleave' - default\n",
    "array = HackArray()\n",
    "\n",
    "# define jobs ...\n",
    "allinp = list(range(40))\n",
    "\n",
    "def funkce(inp):\n",
    "    return inp * 2"
   ]
  },
  {
   "cell_type": "code",
   "execution_count": 9,
   "id": "3c4b957b",
   "metadata": {},
   "outputs": [
    {
     "data": {
      "text/plain": [
       "<itertools.islice at 0x7fa1968fee80>"
      ]
     },
     "execution_count": 9,
     "metadata": {},
     "output_type": "execute_result"
    }
   ],
   "source": [
    "# just split the work based on index\n",
    "array.split_work(allinp)"
   ]
  },
  {
   "cell_type": "code",
   "execution_count": 10,
   "id": "f86eb087",
   "metadata": {},
   "outputs": [
    {
     "data": {
      "text/plain": [
       "[2, 8, 14, 20, 26, 32, 38, 44, 50, 56, 62, 68, 74]"
      ]
     },
     "execution_count": 10,
     "metadata": {},
     "output_type": "execute_result"
    }
   ],
   "source": [
    "# apply function on data and return list of answers\n",
    "array.split_work_and_run_map(funkce, allinp)"
   ]
  },
  {
   "cell_type": "code",
   "execution_count": 11,
   "id": "2b8542ca",
   "metadata": {},
   "outputs": [
    {
     "name": "stdout",
     "output_type": "stream",
     "text": [
      "<generator object ArrayMetacentrum.split_work_and_run_imap at 0x7fa196cf76f0>\n",
      "----------------------------------------\n",
      "2, 8, 14, 20, 26, 32, 38, 44, 50, 56, 62, 68, 74, \n"
     ]
    }
   ],
   "source": [
    "# lazy version ... you can use tqdm (progress bar)\n",
    "h = array.split_work_and_run_imap(funkce, allinp)\n",
    "print(h)\n",
    "print('-'*40)\n",
    "for g in h:\n",
    "    print(g, end=', ')\n",
    "print()"
   ]
  },
  {
   "cell_type": "code",
   "execution_count": 12,
   "id": "53507788",
   "metadata": {},
   "outputs": [
    {
     "name": "stdout",
     "output_type": "stream",
     "text": [
      "<generator object ArrayMetacentrum.split_work_and_run_imap_unordered at 0x7fa196cf7840>\n",
      "----------------------------------------\n",
      "2, 8, 14, 20, 26, 44, 32, 38, 56, 50, 62, 68, 74, \n"
     ]
    }
   ],
   "source": [
    "# even lazier version (unordered) ... you can use tqdm (progress bar)\n",
    "h = array.split_work_and_run_imap_unordered(funkce, allinp)\n",
    "print(h)\n",
    "print('-'*40)\n",
    "for g in h:\n",
    "    print(g, end=', ')\n",
    "print()"
   ]
  },
  {
   "cell_type": "markdown",
   "id": "8dc4b563",
   "metadata": {},
   "source": [
    "## Slice types"
   ]
  },
  {
   "cell_type": "code",
   "execution_count": 13,
   "id": "3ae80718",
   "metadata": {},
   "outputs": [],
   "source": [
    "# simulates array ...\n",
    "\n",
    "class HackArray0(HackArray):\n",
    "    @property\n",
    "    def array_index(self): return 0 \n",
    "class HackArray1(HackArray):\n",
    "    @property\n",
    "    def array_index(self): return 1 \n",
    "class HackArray2(HackArray):\n",
    "    @property\n",
    "    def array_index(self): return 2 \n",
    "    \n",
    "allinp = list(range(40))"
   ]
  },
  {
   "cell_type": "code",
   "execution_count": 19,
   "id": "21c81271",
   "metadata": {},
   "outputs": [
    {
     "name": "stdout",
     "output_type": "stream",
     "text": [
      "<itertools.islice object at 0x7fa1968ff740>\n",
      "<itertools.islice object at 0x7fa1ee017bf0>\n",
      "<itertools.islice object at 0x7fa1968ff740>\n"
     ]
    }
   ],
   "source": [
    "# every #arrayElement is selected\n",
    "array = HackArray0(slice_type='interleave')\n",
    "print(array.split_work(allinp))\n",
    "array = HackArray1(slice_type='interleave')\n",
    "print(array.split_work(allinp))\n",
    "array = HackArray2(slice_type='interleave')\n",
    "print(array.split_work(allinp))"
   ]
  },
  {
   "cell_type": "code",
   "execution_count": 15,
   "id": "6ce46784",
   "metadata": {},
   "outputs": [
    {
     "name": "stdout",
     "output_type": "stream",
     "text": [
      "[27, 28, 29, 30, 31, 32, 33, 34, 35, 36, 37, 38, 39]\n",
      "[14, 15, 16, 17, 18, 19, 20, 21, 22, 23, 24, 25, 26]\n",
      "[0, 1, 2, 3, 4, 5, 6, 7, 8, 9, 10, 11, 12, 13]\n"
     ]
    }
   ],
   "source": [
    "# selects only continuous parts of iterator\n",
    "array = HackArray0(slice_type='offset')\n",
    "print(array.split_work(allinp))\n",
    "array = HackArray1(slice_type='offset')\n",
    "print(array.split_work(allinp))\n",
    "array = HackArray2(slice_type='offset')\n",
    "print(array.split_work(allinp))"
   ]
  },
  {
   "cell_type": "code",
   "execution_count": 16,
   "id": "13b99771",
   "metadata": {},
   "outputs": [
    {
     "name": "stdout",
     "output_type": "stream",
     "text": [
      "[33, 2, 0, 38, 27, 5, 6, 8, 14, 15, 17, 1, 7]\n",
      "[12, 34, 35, 26, 13, 22, 20, 31, 37, 29, 19, 16, 39]\n",
      "[9, 3, 10, 36, 25, 24, 30, 11, 4, 32, 21, 28, 23, 18]\n"
     ]
    }
   ],
   "source": [
    "# random shuffle + split\n",
    "array = HackArray0(slice_type='random')\n",
    "print(array.split_work(allinp))\n",
    "array = HackArray1(slice_type='random')\n",
    "print(array.split_work(allinp))\n",
    "array = HackArray2(slice_type='random')\n",
    "print(array.split_work(allinp))"
   ]
  },
  {
   "cell_type": "code",
   "execution_count": 17,
   "id": "bfec2a34",
   "metadata": {},
   "outputs": [
    {
     "name": "stdout",
     "output_type": "stream",
     "text": [
      "[15, 3, 6, 25, 24, 30, 28, 31, 7, 16, 4, 36, 8]\n",
      "[27, 22, 10, 33, 18, 35, 39, 14, 26, 19, 13, 12, 0]\n",
      "[23, 2, 11, 1, 37, 32, 5, 9, 17, 29, 34, 20, 38, 21]\n"
     ]
    }
   ],
   "source": [
    "# random shuffle + split\n",
    "array = HackArray0(slice_type='random', seed=1)\n",
    "print(array.split_work(allinp))\n",
    "array = HackArray1(slice_type='random', seed=1)\n",
    "print(array.split_work(allinp))\n",
    "array = HackArray2(slice_type='random', seed=1)\n",
    "print(array.split_work(allinp))"
   ]
  },
  {
   "cell_type": "code",
   "execution_count": 18,
   "id": "598d471f",
   "metadata": {},
   "outputs": [
    {
     "name": "stdout",
     "output_type": "stream",
     "text": [
      "[32, 37, 21, 18, 2, 13, 16, 19, 10, 23, 38, 5, 3]\n",
      "[7, 22, 0, 1, 8, 24, 14, 17, 11, 33, 36, 12, 20]\n",
      "[26, 4, 39, 27, 34, 15, 29, 9, 35, 31, 30, 25, 6, 28]\n"
     ]
    }
   ],
   "source": [
    "# random shuffle + split\n",
    "array = HackArray0(slice_type='random', seed=2)\n",
    "print(array.split_work(allinp))\n",
    "array = HackArray1(slice_type='random', seed=2)\n",
    "print(array.split_work(allinp))\n",
    "array = HackArray2(slice_type='random', seed=2)\n",
    "print(array.split_work(allinp))"
   ]
  },
  {
   "cell_type": "code",
   "execution_count": null,
   "id": "158b2ddd",
   "metadata": {},
   "outputs": [],
   "source": []
  }
 ],
 "metadata": {
  "kernelspec": {
   "display_name": "Python 3 (ipykernel)",
   "language": "python",
   "name": "python3"
  },
  "language_info": {
   "codemirror_mode": {
    "name": "ipython",
    "version": 3
   },
   "file_extension": ".py",
   "mimetype": "text/x-python",
   "name": "python",
   "nbconvert_exporter": "python",
   "pygments_lexer": "ipython3",
   "version": "3.10.4"
  }
 },
 "nbformat": 4,
 "nbformat_minor": 5
}
