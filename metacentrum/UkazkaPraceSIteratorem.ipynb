{
 "cells": [
  {
   "cell_type": "code",
   "execution_count": 1,
   "id": "7204ebe8",
   "metadata": {},
   "outputs": [],
   "source": [
    "import parallization_metacentrum as pm"
   ]
  },
  {
   "cell_type": "markdown",
   "id": "9396268c",
   "metadata": {},
   "source": [
    "# Normal Jobs\n",
    "- splits the work across number of cores"
   ]
  },
  {
   "cell_type": "code",
   "execution_count": 2,
   "id": "31cf209c",
   "metadata": {},
   "outputs": [],
   "source": [
    "# define jobs ...\n",
    "allinp = list(range(40))\n",
    "\n",
    "def funkce(inp):\n",
    "    return inp * 2\n",
    "\n",
    "dispatcher = pm.IsMetacentrum()"
   ]
  },
  {
   "cell_type": "code",
   "execution_count": 3,
   "id": "c1c8d3b7",
   "metadata": {},
   "outputs": [
    {
     "name": "stdout",
     "output_type": "stream",
     "text": [
      "16\n"
     ]
    }
   ],
   "source": [
    "# returns number of cpus (local == number of cores, metacentrum == number of assigned cores)\n",
    "print(dispatcher.cpus)"
   ]
  },
  {
   "cell_type": "code",
   "execution_count": 4,
   "id": "f95e0eed",
   "metadata": {},
   "outputs": [
    {
     "name": "stdout",
     "output_type": "stream",
     "text": [
      "38.6578369140625\n"
     ]
    }
   ],
   "source": [
    "# returns GB (local == number of cores, metacentrum == assigned memory)\n",
    "print(dispatcher.memory)"
   ]
  },
  {
   "cell_type": "code",
   "execution_count": 5,
   "id": "83e2ac03",
   "metadata": {},
   "outputs": [
    {
     "data": {
      "text/plain": [
       "False"
      ]
     },
     "execution_count": 5,
     "metadata": {},
     "output_type": "execute_result"
    }
   ],
   "source": [
    "# \n",
    "dispatcher.ismetacentrum"
   ]
  },
  {
   "cell_type": "code",
   "execution_count": 6,
   "id": "537ea16e",
   "metadata": {},
   "outputs": [
    {
     "name": "stdout",
     "output_type": "stream",
     "text": [
      "[0, 2, 4, 6, 8, 10, 12, 14, 16, 18, 20, 22, 24, 26, 28, 30, 32, 34, 36, 38, 40, 42, 44, 46, 48, 50, 52, 54, 56, 58, 60, 62, 64, 66, 68, 70, 72, 74, 76, 78]\n"
     ]
    }
   ],
   "source": [
    "# run parallel (d.cpus) list.map\n",
    "print(dispatcher.run_map(funkce, allinp))"
   ]
  },
  {
   "cell_type": "code",
   "execution_count": 7,
   "id": "aa5af975",
   "metadata": {},
   "outputs": [
    {
     "name": "stdout",
     "output_type": "stream",
     "text": [
      "<generator object IsMetacentrum.run_imap at 0x7f7eaeaa33e0>\n"
     ]
    }
   ],
   "source": [
    "# lazy version\n",
    "print(dispatcher.run_imap(funkce, allinp))"
   ]
  },
  {
   "cell_type": "markdown",
   "id": "13ada78b",
   "metadata": {},
   "source": [
    "# Array jobs \n",
    "- split work across array\n",
    "- works in normal jobs too"
   ]
  },
  {
   "cell_type": "code",
   "execution_count": 8,
   "id": "205f57f1",
   "metadata": {},
   "outputs": [],
   "source": [
    "\n",
    "# hack ... simulate metacentrum environment\n",
    "class HackArray(pm.ArrayMetacentrum):\n",
    "    @property\n",
    "    def array_index(self):\n",
    "        return 1 # <- 0, 1, 2 \n",
    "    \n",
    "    def _get_all_array_indexes(self):\n",
    "        return [1,2,3]\n",
    "\n",
    "# slice_type='interleave' - default\n",
    "array = HackArray()\n",
    "\n",
    "# define jobs ...\n",
    "allinp = list(range(40))\n",
    "\n",
    "def funkce(inp):\n",
    "    return inp * 2"
   ]
  },
  {
   "cell_type": "code",
   "execution_count": 9,
   "id": "e1d9e429",
   "metadata": {},
   "outputs": [
    {
     "data": {
      "text/plain": [
       "[1, 4, 7, 10, 13, 16, 19, 22, 25, 28, 31, 34, 37]"
      ]
     },
     "execution_count": 9,
     "metadata": {},
     "output_type": "execute_result"
    }
   ],
   "source": [
    "# just split the work based on index\n",
    "array.split_work(allinp)"
   ]
  },
  {
   "cell_type": "code",
   "execution_count": 10,
   "id": "2948f4f9",
   "metadata": {},
   "outputs": [
    {
     "data": {
      "text/plain": [
       "[2, 8, 14, 20, 26, 32, 38, 44, 50, 56, 62, 68, 74]"
      ]
     },
     "execution_count": 10,
     "metadata": {},
     "output_type": "execute_result"
    }
   ],
   "source": [
    "# apply function on data and return list of answers\n",
    "array.split_work_and_run_map(funkce, allinp)"
   ]
  },
  {
   "cell_type": "code",
   "execution_count": 11,
   "id": "956d2ffb",
   "metadata": {},
   "outputs": [
    {
     "name": "stdout",
     "output_type": "stream",
     "text": [
      "<generator object IsMetacentrum.run_imap at 0x7f7eaeaa3760>\n",
      "----------------------------------------\n",
      "2, 8, 14, 20, 26, 32, 38, 44, 50, 56, 62, 68, 74, \n"
     ]
    }
   ],
   "source": [
    "# lazy version ... you can use tqdm (progress bar)\n",
    "h = array.split_work_and_run_imap(funkce, allinp)\n",
    "print(h)\n",
    "print('-'*40)\n",
    "for g in h:\n",
    "    print(g, end=', ')\n",
    "print()"
   ]
  },
  {
   "cell_type": "code",
   "execution_count": 12,
   "id": "e9ab636b",
   "metadata": {},
   "outputs": [
    {
     "name": "stdout",
     "output_type": "stream",
     "text": [
      "<generator object IsMetacentrum.run_imap_unordered at 0x7f7eaeaa3840>\n",
      "----------------------------------------\n",
      "2, 8, 26, 20, 14, 32, 44, 50, 38, 56, 74, 62, 68, \n"
     ]
    }
   ],
   "source": [
    "# even lazier version (unordered) ... you can use tqdm (progress bar)\n",
    "h = array.split_work_and_run_imap_unordered(funkce, allinp)\n",
    "print(h)\n",
    "print('-'*40)\n",
    "for g in h:\n",
    "    print(g, end=', ')\n",
    "print()"
   ]
  },
  {
   "cell_type": "markdown",
   "id": "2439b9d0",
   "metadata": {},
   "source": [
    "## Slice types"
   ]
  },
  {
   "cell_type": "code",
   "execution_count": 13,
   "id": "87499214",
   "metadata": {},
   "outputs": [],
   "source": [
    "# simulates array ...\n",
    "\n",
    "class HackArray0(HackArray):\n",
    "    @property\n",
    "    def array_index(self): return 0 \n",
    "class HackArray1(HackArray):\n",
    "    @property\n",
    "    def array_index(self): return 1 \n",
    "class HackArray2(HackArray):\n",
    "    @property\n",
    "    def array_index(self): return 2 \n",
    "    \n",
    "allinp = list(range(40))"
   ]
  },
  {
   "cell_type": "code",
   "execution_count": 14,
   "id": "60b35421",
   "metadata": {},
   "outputs": [
    {
     "name": "stdout",
     "output_type": "stream",
     "text": [
      "[0, 3, 6, 9, 12, 15, 18, 21, 24, 27, 30, 33, 36, 39]\n",
      "[1, 4, 7, 10, 13, 16, 19, 22, 25, 28, 31, 34, 37]\n",
      "[2, 5, 8, 11, 14, 17, 20, 23, 26, 29, 32, 35, 38]\n"
     ]
    }
   ],
   "source": [
    "# every #arrayElement is selected\n",
    "array = HackArray0(slice_type='interleave')\n",
    "print(array.split_work(allinp))\n",
    "array = HackArray1(slice_type='interleave')\n",
    "print(array.split_work(allinp))\n",
    "array = HackArray2(slice_type='interleave')\n",
    "print(array.split_work(allinp))"
   ]
  },
  {
   "cell_type": "code",
   "execution_count": 15,
   "id": "619354ff",
   "metadata": {},
   "outputs": [
    {
     "name": "stdout",
     "output_type": "stream",
     "text": [
      "[27, 28, 29, 30, 31, 32, 33, 34, 35, 36, 37, 38, 39]\n",
      "[14, 15, 16, 17, 18, 19, 20, 21, 22, 23, 24, 25, 26]\n",
      "[0, 1, 2, 3, 4, 5, 6, 7, 8, 9, 10, 11, 12, 13]\n"
     ]
    }
   ],
   "source": [
    "# selects only continuous parts of iterator\n",
    "array = HackArray0(slice_type='offset')\n",
    "print(array.split_work(allinp))\n",
    "array = HackArray1(slice_type='offset')\n",
    "print(array.split_work(allinp))\n",
    "array = HackArray2(slice_type='offset')\n",
    "print(array.split_work(allinp))"
   ]
  },
  {
   "cell_type": "code",
   "execution_count": 16,
   "id": "377c5a13",
   "metadata": {},
   "outputs": [
    {
     "name": "stdout",
     "output_type": "stream",
     "text": [
      "[33, 2, 0, 38, 27, 5, 6, 8, 14, 15, 17, 1, 7]\n",
      "[12, 34, 35, 26, 13, 22, 20, 31, 37, 29, 19, 16, 39]\n",
      "[9, 3, 10, 36, 25, 24, 30, 11, 4, 32, 21, 28, 23, 18]\n"
     ]
    }
   ],
   "source": [
    "# random shuffle + split\n",
    "array = HackArray0(slice_type='random')\n",
    "print(array.split_work(allinp))\n",
    "array = HackArray1(slice_type='random')\n",
    "print(array.split_work(allinp))\n",
    "array = HackArray2(slice_type='random')\n",
    "print(array.split_work(allinp))"
   ]
  },
  {
   "cell_type": "code",
   "execution_count": null,
   "id": "6bbc0f68",
   "metadata": {},
   "outputs": [],
   "source": []
  }
 ],
 "metadata": {
  "kernelspec": {
   "display_name": "Python 3 (ipykernel)",
   "language": "python",
   "name": "python3"
  },
  "language_info": {
   "codemirror_mode": {
    "name": "ipython",
    "version": 3
   },
   "file_extension": ".py",
   "mimetype": "text/x-python",
   "name": "python",
   "nbconvert_exporter": "python",
   "pygments_lexer": "ipython3",
   "version": "3.10.4"
  }
 },
 "nbformat": 4,
 "nbformat_minor": 5
}
